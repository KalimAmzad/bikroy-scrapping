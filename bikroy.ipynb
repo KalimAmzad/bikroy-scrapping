{
 "cells": [
  {
   "cell_type": "code",
   "execution_count": 1,
   "metadata": {},
   "outputs": [
    {
     "name": "stderr",
     "output_type": "stream",
     "text": [
      "C:\\Users\\Kalim\\anaconda3\\lib\\site-packages\\requests\\__init__.py:89: RequestsDependencyWarning: urllib3 (1.26.8) or chardet (3.0.4) doesn't match a supported version!\n",
      "  warnings.warn(\"urllib3 ({}) or chardet ({}) doesn't match a supported \"\n"
     ]
    }
   ],
   "source": [
    "import pandas as pd\n",
    "from datetime import datetime\n",
    "import requests\n",
    "import time \n",
    "from requests_html import HTMLSession\n",
    "# from requests.packages.urllib3.exceptions import InsecureRequestWarning\n",
    "from PIL import Image\n",
    "from io import StringIO, BytesIO\n",
    "\n",
    "from selenium import webdriver\n",
    "from selenium.webdriver.common.keys import Keys\n",
    "from selenium.webdriver.chrome.service import Service\n",
    "from selenium.webdriver.common.by import By\n",
    "from selenium.webdriver.support.ui import WebDriverWait\n",
    "from selenium.webdriver.support import expected_conditions as EC\n",
    "from IPython.display import display, clear_output\n"
   ]
  },
  {
   "cell_type": "code",
   "execution_count": 4,
   "metadata": {
    "collapsed": true
   },
   "outputs": [
    {
     "name": "stdout",
     "output_type": "stream",
     "text": [
      "Collecting selenium\n",
      "  Downloading selenium-4.1.2-py3-none-any.whl (963 kB)\n",
      "Collecting urllib3[secure,socks]~=1.26\n",
      "  Using cached urllib3-1.26.8-py2.py3-none-any.whl (138 kB)\n",
      "Collecting trio-websocket~=0.9\n",
      "  Downloading trio_websocket-0.9.2-py3-none-any.whl (16 kB)\n",
      "Collecting trio~=0.17\n",
      "  Downloading trio-0.20.0-py3-none-any.whl (359 kB)\n",
      "Requirement already satisfied, skipping upgrade: certifi; extra == \"secure\" in c:\\users\\kalim\\anaconda3\\lib\\site-packages (from urllib3[secure,socks]~=1.26->selenium) (2020.6.20)\n",
      "Requirement already satisfied, skipping upgrade: idna>=2.0.0; extra == \"secure\" in c:\\users\\kalim\\anaconda3\\lib\\site-packages (from urllib3[secure,socks]~=1.26->selenium) (2.10)\n",
      "Requirement already satisfied, skipping upgrade: pyOpenSSL>=0.14; extra == \"secure\" in c:\\users\\kalim\\anaconda3\\lib\\site-packages (from urllib3[secure,socks]~=1.26->selenium) (19.1.0)\n",
      "Requirement already satisfied, skipping upgrade: cryptography>=1.3.4; extra == \"secure\" in c:\\users\\kalim\\anaconda3\\lib\\site-packages (from urllib3[secure,socks]~=1.26->selenium) (3.1.1)\n",
      "Requirement already satisfied, skipping upgrade: PySocks!=1.5.7,<2.0,>=1.5.6; extra == \"socks\" in c:\\users\\kalim\\anaconda3\\lib\\site-packages (from urllib3[secure,socks]~=1.26->selenium) (1.7.1)\n",
      "Requirement already satisfied, skipping upgrade: async-generator>=1.10 in c:\\users\\kalim\\anaconda3\\lib\\site-packages (from trio-websocket~=0.9->selenium) (1.10)\n",
      "Collecting wsproto>=0.14\n",
      "  Downloading wsproto-1.1.0-py3-none-any.whl (24 kB)\n",
      "Collecting sniffio\n",
      "  Using cached sniffio-1.2.0-py3-none-any.whl (10 kB)\n",
      "Requirement already satisfied, skipping upgrade: sortedcontainers in c:\\users\\kalim\\anaconda3\\lib\\site-packages (from trio~=0.17->selenium) (2.2.2)\n",
      "Collecting outcome\n",
      "  Downloading outcome-1.1.0-py2.py3-none-any.whl (9.7 kB)"
     ]
    },
    {
     "name": "stderr",
     "output_type": "stream",
     "text": [
      "ERROR: After October 2020 you may experience errors when installing or updating packages. This is because pip will change the way that it resolves dependency conflicts.\n",
      "\n",
      "We recommend you use --use-feature=2020-resolver to test your packages with the new resolver before it becomes the default.\n",
      "\n",
      "requests 2.24.0 requires urllib3!=1.25.0,!=1.25.1,<1.26,>=1.21.1, but you'll have urllib3 1.26.8 which is incompatible.\n"
     ]
    },
    {
     "name": "stdout",
     "output_type": "stream",
     "text": [
      "\n",
      "Requirement already satisfied, skipping upgrade: attrs>=19.2.0 in c:\\users\\kalim\\anaconda3\\lib\\site-packages (from trio~=0.17->selenium) (20.3.0)\n",
      "Requirement already satisfied, skipping upgrade: cffi>=1.14; os_name == \"nt\" and implementation_name != \"pypy\" in c:\\users\\kalim\\anaconda3\\lib\\site-packages (from trio~=0.17->selenium) (1.14.3)\n",
      "Requirement already satisfied, skipping upgrade: six>=1.5.2 in c:\\users\\kalim\\anaconda3\\lib\\site-packages (from pyOpenSSL>=0.14; extra == \"secure\"->urllib3[secure,socks]~=1.26->selenium) (1.15.0)\n",
      "Collecting h11<1,>=0.9.0\n",
      "  Downloading h11-0.13.0-py3-none-any.whl (58 kB)\n",
      "Requirement already satisfied, skipping upgrade: pycparser in c:\\users\\kalim\\anaconda3\\lib\\site-packages (from cffi>=1.14; os_name == \"nt\" and implementation_name != \"pypy\"->trio~=0.17->selenium) (2.20)\n",
      "Installing collected packages: urllib3, sniffio, outcome, trio, h11, wsproto, trio-websocket, selenium\n",
      "  Attempting uninstall: urllib3\n",
      "    Found existing installation: urllib3 1.25.11\n",
      "    Uninstalling urllib3-1.25.11:\n",
      "      Successfully uninstalled urllib3-1.25.11\n",
      "  Attempting uninstall: selenium\n",
      "    Found existing installation: selenium 3.9.0\n",
      "    Uninstalling selenium-3.9.0:\n",
      "      Successfully uninstalled selenium-3.9.0\n",
      "Successfully installed h11-0.13.0 outcome-1.1.0 selenium-4.1.2 sniffio-1.2.0 trio-0.20.0 trio-websocket-0.9.2 urllib3-1.26.8 wsproto-1.1.0\n"
     ]
    }
   ],
   "source": [
    "! pip install --upgrade selenium"
   ]
  },
  {
   "cell_type": "code",
   "execution_count": null,
   "metadata": {},
   "outputs": [
    {
     "name": "stdout",
     "output_type": "stream",
     "text": [
      "https://bikroy.com/en/ads/bangladesh/mobiles?sort=date&order=desc&buy_now=0&urgent=0&page=14\n"
     ]
    }
   ],
   "source": [
    "s = Service('chromedriver')\n",
    "driver = webdriver.Chrome(service=s)\n",
    "pages = 100\n",
    "single_page_urls = []\n",
    "page_cnt, url_cnt = 0, 0\n",
    "for p in range(1, pages+1):\n",
    "    bikroy_url = f'https://bikroy.com/en/ads/bangladesh/mobiles?sort=date&order=desc&buy_now=0&urgent=0&page={p}'\n",
    "    print(bikroy_url)\n",
    "    driver.get(bikroy_url)\n",
    "    time.sleep(3)\n",
    "    page_cnt += 1\n",
    "    for i in range (1, 28):\n",
    "        try:\n",
    "            single_url = driver.find_element(by=By.XPATH, value=f'//*[@id=\"app-wrapper\"]/div[1]/div[3]/div/div[2]/div[4]/div[2]/div/div[1]/div[1]/ul/li[{i}]/a').get_attribute('href')\n",
    "            single_page_urls.append(single_url)\n",
    "            url_cnt += 1\n",
    "            print(\"Page: \" + str(page_cnt) + \" URL: \" + str(url_cnt))\n",
    "        except:\n",
    "            pass\n",
    "    \n",
    "    clear_output(wait=True)\n",
    "# driver.maximize_window()"
   ]
  },
  {
   "cell_type": "code",
   "execution_count": 15,
   "metadata": {
    "collapsed": true
   },
   "outputs": [
    {
     "data": {
      "text/plain": [
       "['https://bikroy.com/en/ad/apple-iphone-13-pro-max-256-usa-inactive-new-for-sale-chattogram',\n",
       " 'https://bikroy.com/en/ad/apple-iphone-5-32-gb-intact-box-new-for-sale-dhaka-88',\n",
       " 'https://bikroy.com/en/ad/samsung-a10s-2-32-used-for-sale-chattogram-division-96',\n",
       " 'https://bikroy.com/en/ad/apple-iphone-11-pro-max-6-256-used-for-sale-chattogram-division',\n",
       " 'https://bikroy.com/en/ad/oneplus-nord-n100-4-64full-freshbox-used-for-sale-dhaka',\n",
       " 'https://bikroy.com/en/ad/samsung-tab-a2-32official-used-for-sale-dhaka',\n",
       " 'https://bikroy.com/en/ad/samsung-guru-music-2-used-for-sale-dhaka-4697',\n",
       " 'https://bikroy.com/en/ad/symphony-e78-used-for-sale-sylhet',\n",
       " 'https://bikroy.com/en/ad/apple-iphone-11-pro-max-used-for-sale-dhaka-1169',\n",
       " 'https://bikroy.com/en/ad/xiaomi-redmi-10-prime-6-128-used-for-sale-mymensingh',\n",
       " 'https://bikroy.com/en/ad/samsung-m31s-6128-used-for-sale-dhaka-2',\n",
       " 'https://bikroy.com/en/ad/samsung-m02s4-64official-used-for-sale-dhaka-15',\n",
       " 'https://bikroy.com/en/ad/xiaomi-redmi-note-9-4-64-used-for-sale-dhaka-422',\n",
       " 'https://bikroy.com/en/ad/xiaomi-redmi-note-8-used-for-sale-khulna-790',\n",
       " 'https://bikroy.com/en/ad/samsung-galaxy-a20-fress-condition-used-for-sale-dhaka',\n",
       " 'https://bikroy.com/en/ad/oppo-neo-5-1-16-used-for-sale-dhaka-13',\n",
       " 'https://bikroy.com/en/ad/samsung-galaxy-s6-used-for-sale-khulna-201',\n",
       " 'https://bikroy.com/en/ad/apple-iphone-6s-plus-2-32-used-for-sale-khulna-5',\n",
       " 'https://bikroy.com/en/ad/samsung-galaxy-s-duos-7582-used-for-sale-sylhet-11',\n",
       " 'https://bikroy.com/en/ad/apple-iphone-xs-max-used-for-sale-sylhet-189',\n",
       " 'https://bikroy.com/en/ad/vivo-y53s-used-for-sale-khulna-division-15',\n",
       " 'https://bikroy.com/en/ad/vivo-y30-used-for-sale-chattogram-division-65',\n",
       " 'https://bikroy.com/en/ad/xiaomi-redmi-3-3s-prime-used-for-sale-dhaka-division',\n",
       " 'https://bikroy.com/en/ad/xiaomi-redmi-note-8-used-for-sale-chattogram-1239',\n",
       " 'https://bikroy.com/en/ad/samsung-galaxy-j7-prime-2-used-for-sale-dhaka-503',\n",
       " 'https://bikroy.com/en/ad/xiaomi-redmi-note-7-4-64-used-for-sale-rangpur-division-77',\n",
       " 'https://bikroy.com/en/ad/vivo-v23-buy-to-buy-khulna-division']"
      ]
     },
     "execution_count": 15,
     "metadata": {},
     "output_type": "execute_result"
    }
   ],
   "source": [
    "with open('mobile_product_urls.txt', 'w') as f:\n",
    "for s in single_page_urls:\n",
    "    f.write(s)\n",
    "    f.write('\\n')"
   ]
  },
  {
   "cell_type": "code",
   "execution_count": 51,
   "metadata": {},
   "outputs": [],
   "source": [
    "with open('mobile_product_urls.txt', 'w') as f:\n",
    "    for s in single_page_urls:\n",
    "        f.write(s)\n",
    "        f.write('\\n')"
   ]
  },
  {
   "cell_type": "code",
   "execution_count": null,
   "metadata": {},
   "outputs": [],
   "source": []
  },
  {
   "cell_type": "code",
   "execution_count": 5,
   "metadata": {},
   "outputs": [],
   "source": [
    "s = Service('chromedriver')\n",
    "\n",
    "s_driver = webdriver.Chrome(service=s)\n",
    "# for s_u in single_page_urls:\n",
    "#     s_driver.get(single_page_urls[2])\n",
    "#     s_u = 'https://bikroy.com/bn/ad/samsung-galaxy-j2-used-for-sale-dhaka-division-3169'\n",
    "#     s_driver.get(s_u)"
   ]
  },
  {
   "cell_type": "code",
   "execution_count": 49,
   "metadata": {},
   "outputs": [
    {
     "name": "stdout",
     "output_type": "stream",
     "text": [
      "Count:  1\n",
      "Title:  Apple iPhone 13 Pro Max 256 usa inactive (New)\n",
      "Meta Data:  {'Condition': 'New', 'Brand': 'Apple', 'Model': 'iPhone 13 Pro Max', 'Edition': '256 usa inactive', 'Authenticity': 'Original'}\n",
      "Bluetooth, Camera, Dual-Lens Camera, Dual SIM, Expandable Memory, Fingerprint Sensor, GPS, Motion Sensors, 3G, 4G, GSM, Touch screen\n",
      "Description:  # INTACT SEAL PACK\n",
      "# 12 mp Selfie & 12+12+12 MP Camera\n",
      "# 6 gb Ram & 256 gb Rom\n",
      "# BLUE  and Gold COLOUR\n",
      "# CASH PROMO 126000 TAKA\n",
      "# REGULAR 140000 TAKA\n",
      "# EMI STARTING 15000 TAKA PER MONTH (CRIDET CARD HOLDER ONLY)\n",
      "Buyers Will Get:\n",
      "★★ Charger\n",
      " ★★ Data cable\n",
      "★★ Box\n",
      "★★ Money Receipt\n",
      "Issues:\n",
      "1.Our All Products Original And Genuine. \n",
      "2.Our All Product 5 Days replacement And 1 year Service Warranty\n",
      "Our EMI Banking Partner:- \n",
      "1.Standard Chartered Bank. \n",
      "2.The City Bank Ltd. \n",
      "3.Brac Bank Ltd. \n",
      "4.Eastern Bank Ltd. \n",
      "5.LankaBangla Finance Ltd. \n",
      "6.Mutual Trust Bank Ltd. \n",
      "7.Southeast Bank Ltd. \n",
      "8.NRB Bank Ltd. \n",
      "9.One Bank Ltd. \n",
      "10.Dutch Bangla bank Ltd. \n",
      "11.Standard Band Ltd. \n",
      "12.Al-Arafah Islami Bank ltd.\n",
      "13.Bank Asia limited\n",
      "14.Prime Bank limited\n",
      "15.Ucbl Bank limited\n",
      "Our Rewards Points Redemption Banking Partner:- \n",
      "1.Brac Bank Ltd \n",
      "2.The City Bank Ltd \n",
      "3.Langka Bangka Finance Ltd \n",
      "4.Standard Chartered Bank(Coming Soon)\n",
      "Visit us:\n",
      " Rony Enterprise (Since 2007)  \n",
      "Subashati Syed Center( 3rd floor)\n",
      " Beside Moti Tower And Moti Complex. \n",
      "Shop no 306/A,College road,  \n",
      "Chawkbazar ,Chittagong\n",
      "=============================================\n",
      "Count:  2\n",
      "Title:  Apple iPhone 5 32 GB INTACT BOX (New)\n",
      "Meta Data:  {'Condition': 'New', 'Brand': 'Apple', 'Model': 'iPhone 5', 'Edition': '32 GB INTACT BOX', 'Authenticity': 'Refurbished'}\n",
      "Bluetooth, Camera, GPS, Motion Sensors, 3G, 4G, GSM, Touch screen\n",
      "Description:  iPhone 5 \n",
      "আমরা সব ধরনের মোবাইল পাইকারি বিক্রি করে থাকি। আপনাদের যদি লাগে আমাদের কাছ থেকে নিয়ে বিক্রি করতে পারবেন। \n",
      "কিনুন বিশাল মূল্য ছাড়ে।৬৫% ডিসকাউন্ট ---------\n",
      "যারা লো-বাজেটের ভেতর আইফোন খুজচ্ছেন তাদের জন্য আমাদের কাছে রয়েছে iphone 5 ★Color :- Availavle .\n",
      "Apple iPhone 5 32GB 4G LTE,Preowned(Abroad) Full Boxed.\n",
      "**1000% Original Apple. Come From Abroad.\n",
      "👾RAM: 1GB.\n",
      "💾ROM: 32GB.\n",
      "📸Rear Camera: 8MP.\n",
      "🤳Front Camera: 1.2 MP.\n",
      "📱Display: 4.0 inches.\n",
      "🎮Chipset: Apple A6.\n",
      "💥Os: iOS 10.3.3\n",
      "Buyer Will Get :\n",
      "🔹Full Box\n",
      "✍️Cash Memo.\n",
      "💥Price: Fixed💥 (Please Don't Bargain)\n",
      "🔺আপনাদের দুশ্চিন্তা মুক্ত রাখতে আমাদের প্রতিটি স্মার্টফোনের সাথে থাকছে \n",
      "✅7 দিনের রিপ্লেসমেন্ট গ্যারান্টি. \n",
      "✅1 বছর এর সার্ভিস ওয়ারেন্টি.\n",
      "আমরা কুরিয়ার সার্ভিসের মাধ্যমে বাংলাদেশের সব যায়গায় পোঁছে দেই প্রোডাক্ট \n",
      "ঢাকার ভেতর ক্যাশ অন ডেলিভারি তে আপনার হাতে পোঁছে দেওয়া হয় ।\n",
      "কুরিয়ার চার্জ:-১৫০ টাকা (যে কোন জেলায়) \n",
      "ঢাকা চার্জ:- ১০০ টাকা \n",
      "ওয়ারেন্টি / গ্যারান্টি মেমোতে লেখা থাকবে যে কোন সমস্যায় আমাদের ঠিকানায় চলে আসবেন  \n",
      "দোকান নং ৪০৭ চতুর্থ তলা নাহার প্লাযা হাতিরপুল ঢাকা ১২১৫।\n",
      "=============================================\n",
      "Count:  3\n",
      "Title:  Samsung A10s 2/32 (Used)\n",
      "Meta Data:  {'Condition': 'Used', 'Brand': 'Samsung', 'Model': 'A10s', 'Edition': '2/32', 'Authenticity': 'Original'}\n",
      "No show more button\n",
      "Bluetooth, Camera, Dual-Lens Camera, Dual SIM, Expandable Memory, Fingerprint Sensor, 3G, 4G, Touch screen\n",
      "Description:  ফুল ফ্রেশ আছে,চালায়া দেখে নিবেন,আশা করি ভাল হবে,,,\n",
      "কল দিয়ে না পাইলে,এসেমেস দিবেন,তাহলে বিস্তারির জানতে পারবেন,,,\n",
      "সাথে চার্জার আছে,,,,,\n",
      "=============================================\n",
      "Count:  4\n",
      "Title:  Apple iPhone 11 Pro Max 6/256 (Used)\n",
      "Meta Data:  {'Condition': 'Used', 'Brand': 'Apple', 'Model': 'iPhone 11 Pro Max', 'Edition': '6/256', 'Authenticity': 'Original'}\n",
      "No show more button\n",
      "Bluetooth, Camera, Touch screen\n",
      "Description:  iPhone 12 Pro Max \n",
      "Pacific blue \n",
      "6/256\n",
      "Used \n",
      "=============================================\n",
      "Count:  5\n",
      "Title:  OnePlus Nord N100 4/64(Full Fresh)Box (Used)\n",
      "Meta Data:  {'Condition': 'Used', 'Brand': 'OnePlus', 'Model': 'Nord N100', 'Edition': '4/64(Full Fresh)Box', 'Authenticity': 'Original'}\n",
      "No feature\n",
      "Description:  🌷🌷Welcome to\"Silver Tech BD.\"🌷🌷\n",
      "Specifications :-\n",
      "▶️ OnePlus N100\n",
      "▶️ Ram-4\n",
      "▶️Rom64\n",
      "🌀🌀🔋5000mah.🌀🌀📷13::2:2//8🌀🌀 Snapdragon 460 chipset🌀🌀\n",
      "👉👉    আপনি যা যা পাবেন>>>\n",
      "🔹Device.\n",
      "🔹Charger.\n",
      "🔹Ime Matching Box.\n",
      "🔹Invioce/Cash Memo.\n",
      "🔴 Price is fixed so No Bargain please🙏🙏\n",
      "100%   জেনুইন প্রোডাক্ট পেতে চলে আসুন আামাদের দোকানে, আর যাচাই করে নিন আমাদের প্রোডাক্ট গুলো আসল নাকি নকল।তাই আপনি প্রতিটি মোবাইলের সাথে পাবেনঃ-\n",
      "👉👉3 Days Replacement opportunity. \n",
      "👉👉6 Months Service Warranty(without display & fingerprint).\n",
      "▶️Exchange Facility :-\n",
      "আপনার পুরাতন মোবাইল আমাদের সাথে Exchange করতে পারেন।এ ছারা আমরা পুরাতন মোবাইল ক্রয়  ও করে থাকি কিন্তু সে ক্ষেত্রে মোবাইলের Box অবশ্যই থাকতে হবে।  \n",
      "Weekly holiday :Wednesday. \n",
      "Our Business Time :10am to 9pm,\n",
      "Friday 3pm to 9pm\n",
      "আামাদের ঠিকানাঃ-\n",
      "Silver Tech BD.\n",
      "Tropical MollahTower\n",
      "Shop No -5( Ground floor)\n",
      "Sha-15/1-15/4,Progati Sarani\n",
      "(Opposite of Bepari Configure \n",
      "Shopping Centre).Near{Gulshan+Badda}Link Road.Middle Badda,Dhaka-1212.\n",
      "Facebook page:- https://www.facebook.com/Silvertechbd/\n",
      "Bikroy>>\n",
      "https://bikroy.com/en/shops/silver-tech-bd\n",
      "=============================================\n"
     ]
    }
   ],
   "source": [
    "s = Service('chromedriver')\n",
    "s_driver = webdriver.Chrome(service=s)\n",
    "\n",
    "cnt = 1\n",
    "titles, img_lst, meta_lst,  feature_lst, desc_lst = [[]]*5 \n",
    "for s_u in single_page_urls[:5]:\n",
    "    print(\"Count: \", cnt)\n",
    "    s_driver.get(s_u)\n",
    "    time.sleep(3)\n",
    "\n",
    "    # single page data scrapping\n",
    "    s_title = s_driver.find_element(by=By.TAG_NAME, value='h1').text\n",
    "#     //*[@id=\"app-wrapper\"]/div[1]/div[2]/div[2]/div[1]/div[1]/div/div[1]/div/div[1]/div[2]/div/div/h1\n",
    "    #     //*[@id=\"app-wrapper\"]/div[1]/div[2]/div[2]/div[1]/div[1]/div/div[1]/div/div[1]/div[2]/div/div/h1\n",
    "    print(\"Title: \", s_title)\n",
    "    titles.append(s_title)\n",
    "\n",
    "    # scrapping all images\n",
    "    try:\n",
    "        images = s_driver.find_element(by=By.XPATH, value='//*[@id=\"app-wrapper\"]/div[1]/div[2]/div[2]/div[3]/div[2]/div/div[1]/div/div[1]/div/div/ul')\n",
    "        img_path = []\n",
    "        for img in images.find_elements(by=By.TAG_NAME,value='img'):\n",
    "            img_urls = img.get_attribute('src')\n",
    "\n",
    "            img_urls_firstname = '/'.join(img_urls.split('/')[:-3])\n",
    "            img_urls_rename = img_urls_firstname + '/620/466/fitted.jpg'\n",
    "    #         print(img_urls_rename)\n",
    "            img_name = '@'.join(img_urls_firstname.split('/')[-2:])\n",
    "\n",
    "            r = requests.get(img_urls_rename)\n",
    "            i = Image.open(BytesIO(r.content))\n",
    "            i.save(f\"img/mobile/{img_name}.jpg\")\n",
    "            img_path.append(img_name)\n",
    "        img_lst.append(img_path)\n",
    "    except:\n",
    "        print('No images')\n",
    "\n",
    "    # extractig meta data\n",
    "    meta_data = s_driver.find_element(by=By.XPATH, value='//*[@id=\"app-wrapper\"]/div[1]/div[2]/div[2]/div[3]/div[2]/div/div[1]/div/div[2]/div[2]')\n",
    "\n",
    "    md = meta_data.find_elements(by=By.TAG_NAME,value='div')\n",
    "    meta_dic = {}\n",
    "    for m in md:\n",
    "        m = m.text\n",
    "        if '\\n' in m:\n",
    "            key, val = m.split('\\n')[0].replace(':', ''), m.split('\\n')[1]\n",
    "            meta_dic[key] = val\n",
    "    print(\"Meta Data: \", meta_dic)\n",
    "    meta_lst.append(meta_dic)\n",
    "    # extracting description\n",
    "    # click on show_more button\n",
    "    try:\n",
    "#         s_driver.find_element(by=By.XPATH, value='//*[@id=\"app-wrapper\"]/div[1]/div[2]/div[2]/div[3]/div[2]/div/div[1]/div/div[2]/div[3]/div/div[2]/div/div[2]/button').click()\n",
    "        s_driver.find_element(by=By.CLASS_NAME, value='show-text--13FcL').click()\n",
    "        time.sleep(2)\n",
    "    except:\n",
    "        print(\"No show more button\")\n",
    "\n",
    "    try:\n",
    "        feature = s_driver.find_element(by=By.CLASS_NAME, value='text--Xap4O').text\n",
    "#         feature = s_driver.find_element(by=By.XPATH, value='//*[@id=\"app-wrapper\"]/div[1]/div[2]/div[2]/div[1]/div[1]/div/div[1]/div/div[2]/div[4]/p').text\n",
    "#         feature = feature.find_elements(by=By.TAG_NAME,value='p').text\n",
    "        print('Features: ', feature)\n",
    "        feature_lst.append(feature)\n",
    "    except:\n",
    "        print(\"No feature\")\n",
    "    # desc = s_driver.find_element_by_xpath('/html/body/div[1]/div/div[1]/div[2]/div[2]/div[3]/div[2]/div/div[1]/div/div[2]/div[3]/div/div[2]/div/div[1]/div/ul/div')\n",
    "    # description[0].text\n",
    "    # description = [d.text.replace(\"'\\uf076\", \"\").replace(\"''\\uf0d8\", \"\") for d in desc.find_elements_by_tag_name('p')]\n",
    "    # print(description)\n",
    "\n",
    "    try:\n",
    "        desc = s_driver.find_element(by=By.XPATH, value='//*[@id=\"collapsible-content-0\"]/ul/div')\n",
    "        print(\"Description: \", desc.text)\n",
    "        desc_lst.append(desc)\n",
    "    except:\n",
    "        print(\"No description\")\n",
    "    cnt += 1\n",
    "\n",
    "    print(\"=============================================\")\n",
    "\n",
    "\n",
    "# clear_output(wait=True)"
   ]
  },
  {
   "cell_type": "code",
   "execution_count": 13,
   "metadata": {},
   "outputs": [
    {
     "data": {
      "text/plain": [
       "'Samsung Galaxy J3 2016 (Used)'"
      ]
     },
     "execution_count": 13,
     "metadata": {},
     "output_type": "execute_result"
    }
   ],
   "source": [
    "s_title = s_driver.find_element(by=By.TAG_NAME, value='h1').text\n",
    "s_title"
   ]
  },
  {
   "cell_type": "code",
   "execution_count": 190,
   "metadata": {},
   "outputs": [
    {
     "data": {
      "text/plain": [
       "{'কন্ডিশন': 'ব্যবহৃত',\n",
       " 'ব্র্যান্ড': 'OnePlus',\n",
       " 'মডেল': '8T',\n",
       " 'সংস্করণ': '12/256',\n",
       " 'জেনুইন': 'আসল'}"
      ]
     },
     "execution_count": 190,
     "metadata": {},
     "output_type": "execute_result"
    }
   ],
   "source": [
    "meta_data = s_driver.find_element_by_xpath('//*[@id=\"app-wrapper\"]/div[1]/div[2]/div[2]/div[3]/div[2]/div/div[1]/div/div[2]/div[2]')\n",
    "md = meta_data.find_elements_by_tag_name('div')\n",
    "meta_dic\n",
    "for m in md:\n",
    "    m = m.text\n",
    "    if '\\n' in m:\n",
    "        key, val = m.split('\\n')[0].replace(':', ''), m.split('\\n')[1]\n",
    "        meta_dic[key] = val\n",
    "        \n",
    "        \n",
    "meta_dic"
   ]
  },
  {
   "cell_type": "code",
   "execution_count": 48,
   "metadata": {},
   "outputs": [
    {
     "name": "stdout",
     "output_type": "stream",
     "text": [
      "Bluetooth, Camera, Dual-Lens Camera, Dual SIM, Expandable Memory, Fingerprint Sensor, 3G, 4G, Touch screen\n"
     ]
    }
   ],
   "source": [
    "try:\n",
    "    feature = s_driver.find_element(by=By.CLASS_NAME, value='text--Xap4O').text\n",
    "    print(feature)\n",
    "    \n",
    "#     feature = feature.text\n",
    "#     feature = feature.find_elements(by=By.TAG_NAME,value='p').text\n",
    "    \n",
    "#     print(feature)\n",
    "except:\n",
    "    print(\"No feature\")"
   ]
  },
  {
   "cell_type": "code",
   "execution_count": 38,
   "metadata": {},
   "outputs": [],
   "source": [
    "try:\n",
    "    s_driver.find_element(by=By.CLASS_NAME, value='show-text--13FcL').click()\n",
    "#     print(s_driver.text)\n",
    "#     s_driver.click()\n",
    "    \n",
    "    time.sleep(3)\n",
    "except:\n",
    "    print(\"No show more button\")"
   ]
  },
  {
   "cell_type": "code",
   "execution_count": 199,
   "metadata": {},
   "outputs": [
    {
     "data": {
      "text/plain": [
       "'Ram : 12 GB\\nRom : 256 GB\\nDevice Condition 100% Good like new.\\nfull boxed with 65watt warp charger \\nprotective film applied on both side\\nslightly negotiable'"
      ]
     },
     "execution_count": 199,
     "metadata": {},
     "output_type": "execute_result"
    }
   ],
   "source": [
    "desc = s_driver.find_element_by_css_selector('#collapsible-content-0 > ul > div')\n",
    "desc = s_driver.find_element_by_xpath('//*[@id=\"collapsible-content-0\"]/ul/div')\n",
    "desc.text"
   ]
  },
  {
   "cell_type": "code",
   "execution_count": null,
   "metadata": {},
   "outputs": [],
   "source": [
    "cse_df = pd.DataFrame(cse_data, columns=['sl', 'company', 'trading_code', 'volume', 'close', 'turn_over', 'trade_number', 'date'])\n",
    "# cse_df.columns = ['sl', '-company' 'trading_code', 'volume', 'close', 'turn_over', 'number_of_trade', 'date']    \n",
    "del cse_df['sl']"
   ]
  }
 ],
 "metadata": {
  "kernelspec": {
   "display_name": "Python 3",
   "language": "python",
   "name": "python3"
  },
  "language_info": {
   "codemirror_mode": {
    "name": "ipython",
    "version": 3
   },
   "file_extension": ".py",
   "mimetype": "text/x-python",
   "name": "python",
   "nbconvert_exporter": "python",
   "pygments_lexer": "ipython3",
   "version": "3.8.5"
  }
 },
 "nbformat": 4,
 "nbformat_minor": 4
}
